{
 "cells": [
  {
   "cell_type": "markdown",
   "metadata": {},
   "source": [
    "**Last name:** Vera\n",
    "\n",
    "**Date:** 01/23/2020\n",
    "\n",
    "**Approach:** I used a Gradient Boosting Classifier algorithms because we had features with different ranges, more samples than features and more unbalanced classes. I used a grid search cross-validation to find the best hyper-parameter values.\n",
    "\n",
    "**Estimated AUC:** 0.86"
   ]
  },
  {
   "cell_type": "markdown",
   "metadata": {},
   "source": [
    "# EDA"
   ]
  },
  {
   "cell_type": "code",
   "execution_count": 1,
   "metadata": {},
   "outputs": [],
   "source": [
    "### Importing Packages\n",
    "import pandas as pd\n",
    "import matplotlib.pyplot as plt\n",
    "import seaborn as sns\n",
    "import random as rand\n",
    "\n",
    "### ML packages\n",
    "from sklearn.ensemble import RandomForestClassifier, ExtraTreesClassifier\n",
    "from sklearn.ensemble import GradientBoostingClassifier\n",
    "from sklearn.metrics import roc_auc_score\n",
    "from sklearn.model_selection import GridSearchCV\n",
    "from sklearn.model_selection import train_test_split\n",
    "from sklearn.preprocessing import StandardScaler, OneHotEncoder\n",
    "from sklearn.pipeline import Pipeline\n",
    "from sklearn.preprocessing import RobustScaler\n",
    "### Setting the seed for reproducibility\n",
    "SEED = 1\n",
    "\n"
   ]
  },
  {
   "cell_type": "code",
   "execution_count": 2,
   "metadata": {},
   "outputs": [],
   "source": [
    "### specifying file names\n",
    "file_train = 'train.csv'\n",
    "file_test = 'test.csv'\n",
    "\n",
    "### Reading files\n",
    "train_df = pd.read_csv(file_train)\n",
    "test_df = pd.read_csv(file_test)"
   ]
  },
  {
   "cell_type": "markdown",
   "metadata": {},
   "source": [
    "## Missing values & imputation "
   ]
  },
  {
   "cell_type": "markdown",
   "metadata": {},
   "source": [
    "### Train Dataframe"
   ]
  },
  {
   "cell_type": "code",
   "execution_count": 3,
   "metadata": {},
   "outputs": [
    {
     "name": "stdout",
     "output_type": "stream",
     "text": [
      "<class 'pandas.core.frame.DataFrame'>\n",
      "RangeIndex: 10000 entries, 0 to 9999\n",
      "Data columns (total 10 columns):\n",
      "age                           10000 non-null int64\n",
      "cost_of_ad                    10000 non-null float64\n",
      "device_type                   10000 non-null object\n",
      "gender                        9731 non-null object\n",
      "in_initial_launch_location    10000 non-null int64\n",
      "income                        10000 non-null int64\n",
      "n_drivers                     10000 non-null int64\n",
      "n_vehicles                    10000 non-null int64\n",
      "prior_ins_tenure              10000 non-null int64\n",
      "outcome                       10000 non-null int64\n",
      "dtypes: float64(1), int64(7), object(2)\n",
      "memory usage: 781.4+ KB\n"
     ]
    },
    {
     "data": {
      "text/html": [
       "<div>\n",
       "<style scoped>\n",
       "    .dataframe tbody tr th:only-of-type {\n",
       "        vertical-align: middle;\n",
       "    }\n",
       "\n",
       "    .dataframe tbody tr th {\n",
       "        vertical-align: top;\n",
       "    }\n",
       "\n",
       "    .dataframe thead th {\n",
       "        text-align: right;\n",
       "    }\n",
       "</style>\n",
       "<table border=\"1\" class=\"dataframe\">\n",
       "  <thead>\n",
       "    <tr style=\"text-align: right;\">\n",
       "      <th></th>\n",
       "      <th>age</th>\n",
       "      <th>cost_of_ad</th>\n",
       "      <th>in_initial_launch_location</th>\n",
       "      <th>income</th>\n",
       "      <th>n_drivers</th>\n",
       "      <th>n_vehicles</th>\n",
       "      <th>prior_ins_tenure</th>\n",
       "      <th>outcome</th>\n",
       "    </tr>\n",
       "  </thead>\n",
       "  <tbody>\n",
       "    <tr>\n",
       "      <td>count</td>\n",
       "      <td>10000.000000</td>\n",
       "      <td>10000.000000</td>\n",
       "      <td>10000.000000</td>\n",
       "      <td>10000.000000</td>\n",
       "      <td>10000.000000</td>\n",
       "      <td>10000.00000</td>\n",
       "      <td>10000.000000</td>\n",
       "      <td>10000.0000</td>\n",
       "    </tr>\n",
       "    <tr>\n",
       "      <td>mean</td>\n",
       "      <td>37.991800</td>\n",
       "      <td>0.004666</td>\n",
       "      <td>0.497500</td>\n",
       "      <td>58004.335800</td>\n",
       "      <td>1.497000</td>\n",
       "      <td>2.00220</td>\n",
       "      <td>5.406800</td>\n",
       "      <td>0.0982</td>\n",
       "    </tr>\n",
       "    <tr>\n",
       "      <td>std</td>\n",
       "      <td>13.038203</td>\n",
       "      <td>0.000838</td>\n",
       "      <td>0.500019</td>\n",
       "      <td>17330.778355</td>\n",
       "      <td>0.500016</td>\n",
       "      <td>0.81784</td>\n",
       "      <td>5.046014</td>\n",
       "      <td>0.2976</td>\n",
       "    </tr>\n",
       "    <tr>\n",
       "      <td>min</td>\n",
       "      <td>16.000000</td>\n",
       "      <td>0.003171</td>\n",
       "      <td>0.000000</td>\n",
       "      <td>16241.000000</td>\n",
       "      <td>1.000000</td>\n",
       "      <td>1.00000</td>\n",
       "      <td>0.000000</td>\n",
       "      <td>0.0000</td>\n",
       "    </tr>\n",
       "    <tr>\n",
       "      <td>25%</td>\n",
       "      <td>27.000000</td>\n",
       "      <td>0.003995</td>\n",
       "      <td>0.000000</td>\n",
       "      <td>45533.500000</td>\n",
       "      <td>1.000000</td>\n",
       "      <td>1.00000</td>\n",
       "      <td>1.000000</td>\n",
       "      <td>0.0000</td>\n",
       "    </tr>\n",
       "    <tr>\n",
       "      <td>50%</td>\n",
       "      <td>38.000000</td>\n",
       "      <td>0.004625</td>\n",
       "      <td>0.000000</td>\n",
       "      <td>58053.500000</td>\n",
       "      <td>1.000000</td>\n",
       "      <td>2.00000</td>\n",
       "      <td>4.000000</td>\n",
       "      <td>0.0000</td>\n",
       "    </tr>\n",
       "    <tr>\n",
       "      <td>75%</td>\n",
       "      <td>49.000000</td>\n",
       "      <td>0.005164</td>\n",
       "      <td>1.000000</td>\n",
       "      <td>70235.250000</td>\n",
       "      <td>2.000000</td>\n",
       "      <td>3.00000</td>\n",
       "      <td>8.000000</td>\n",
       "      <td>0.0000</td>\n",
       "    </tr>\n",
       "    <tr>\n",
       "      <td>max</td>\n",
       "      <td>60.000000</td>\n",
       "      <td>0.007082</td>\n",
       "      <td>1.000000</td>\n",
       "      <td>99956.000000</td>\n",
       "      <td>2.000000</td>\n",
       "      <td>3.00000</td>\n",
       "      <td>22.000000</td>\n",
       "      <td>1.0000</td>\n",
       "    </tr>\n",
       "  </tbody>\n",
       "</table>\n",
       "</div>"
      ],
      "text/plain": [
       "                age    cost_of_ad  in_initial_launch_location        income  \\\n",
       "count  10000.000000  10000.000000                10000.000000  10000.000000   \n",
       "mean      37.991800      0.004666                    0.497500  58004.335800   \n",
       "std       13.038203      0.000838                    0.500019  17330.778355   \n",
       "min       16.000000      0.003171                    0.000000  16241.000000   \n",
       "25%       27.000000      0.003995                    0.000000  45533.500000   \n",
       "50%       38.000000      0.004625                    0.000000  58053.500000   \n",
       "75%       49.000000      0.005164                    1.000000  70235.250000   \n",
       "max       60.000000      0.007082                    1.000000  99956.000000   \n",
       "\n",
       "          n_drivers   n_vehicles  prior_ins_tenure     outcome  \n",
       "count  10000.000000  10000.00000      10000.000000  10000.0000  \n",
       "mean       1.497000      2.00220          5.406800      0.0982  \n",
       "std        0.500016      0.81784          5.046014      0.2976  \n",
       "min        1.000000      1.00000          0.000000      0.0000  \n",
       "25%        1.000000      1.00000          1.000000      0.0000  \n",
       "50%        1.000000      2.00000          4.000000      0.0000  \n",
       "75%        2.000000      3.00000          8.000000      0.0000  \n",
       "max        2.000000      3.00000         22.000000      1.0000  "
      ]
     },
     "execution_count": 3,
     "metadata": {},
     "output_type": "execute_result"
    }
   ],
   "source": [
    "## Looking for missing values in training data\n",
    "train_df.info(verbose = True)\n",
    "train_df.describe()"
   ]
  },
  {
   "cell_type": "markdown",
   "metadata": {},
   "source": [
    "Only 2.7% of the gender observations are missing. Therefore, **we are not going to impute any missing values for gender in the training data.**"
   ]
  },
  {
   "cell_type": "code",
   "execution_count": 4,
   "metadata": {},
   "outputs": [
    {
     "data": {
      "text/plain": [
       "(9731, 10)"
      ]
     },
     "execution_count": 4,
     "metadata": {},
     "output_type": "execute_result"
    }
   ],
   "source": [
    "### Dropping missing values\n",
    "train_dropped = train_df.copy()\n",
    "train_dropped = train_dropped.dropna()\n",
    "train_dropped.shape"
   ]
  },
  {
   "cell_type": "markdown",
   "metadata": {},
   "source": [
    "### Test Dataframe"
   ]
  },
  {
   "cell_type": "code",
   "execution_count": null,
   "metadata": {},
   "outputs": [],
   "source": [
    "test_df.info(verbose = True)"
   ]
  },
  {
   "cell_type": "markdown",
   "metadata": {},
   "source": [
    "**We need to predict for all rows in test.csv**, but we have some gender missing values. \n",
    "Even though, we are going to train our model without any imputations.\n",
    "For the missing value of gender in the test dataset, we are going to impute them using a random choice with  the same distribution that we see on the training and testing data between F and M."
   ]
  },
  {
   "cell_type": "code",
   "execution_count": 5,
   "metadata": {},
   "outputs": [
    {
     "name": "stdout",
     "output_type": "stream",
     "text": [
      "1.0438983406847302\n",
      "1.0125902992776057\n",
      "1.028244319981168\n"
     ]
    }
   ],
   "source": [
    "### Obtaining the frequency ratio of Female and Male in order to impute with the same ratio.\n",
    "ratio_F_train = len(train_df[train_df['gender'] == 'F'])/len(train_df[train_df['gender'] == 'M'])\n",
    "ratio_F_test = len(test_df[test_df['gender'] == 'F'])/len(test_df[test_df['gender'] == 'M'])\n",
    "\n",
    "ratio_F = np.mean(np.array([ratio_F_test, ratio_F_train]))\n",
    "\n",
    "print(ratio_F_train)\n",
    "print(ratio_F_test)\n",
    "print(ratio_F)"
   ]
  },
  {
   "cell_type": "code",
   "execution_count": 6,
   "metadata": {},
   "outputs": [],
   "source": [
    "### Impluting missing values for test dataframe using the ratio of train and test\n",
    "\n",
    "for value in test_df['gender'].iteritems():\n",
    "    if value == np.nan:\n",
    "        choice = rand.choices(['F','M'], weights = [ratio_F,1])[0]\n",
    "        test_df[value, 'gender'].replace(to_replace = np.nan,\n",
    "                                         value      = choice,\n",
    "                                         inplace    = True)\n",
    "    elif value != np.nan:\n",
    "        continue\n",
    "    else:\n",
    "        print(\"Something went wrong\")"
   ]
  },
  {
   "cell_type": "markdown",
   "metadata": {},
   "source": [
    "### Distributions"
   ]
  },
  {
   "cell_type": "code",
   "execution_count": 7,
   "metadata": {},
   "outputs": [
    {
     "data": {
      "image/png": "[encoded data removed]",
      "text/plain": [
       "<Figure size 720x576 with 4 Axes>"
      ]
     },
     "metadata": {
      "needs_background": "light"
     },
     "output_type": "display_data"
    },
    {
     "data": {
      "image/png": "[encoded data removed]",
      "text/plain": [
       "<Figure size 720x576 with 4 Axes>"
      ]
     },
     "metadata": {
      "needs_background": "light"
     },
     "output_type": "display_data"
    },
    {
     "data": {
      "image/png": "[encoded data removed]",
      "text/plain": [
       "<Figure size 720x576 with 2 Axes>"
      ]
     },
     "metadata": {
      "needs_background": "light"
     },
     "output_type": "display_data"
    }
   ],
   "source": [
    "########################\n",
    "# Visual EDA (Histograms)\n",
    "########################\n",
    "\n",
    "fig, ax = plt.subplots(figsize = (10, 8))\n",
    "plt.subplot(2, 2, 1)\n",
    "sns.distplot(train_dropped['age'],\n",
    "             bins  = 44, #60 -16 is the range of ages, so 44 bins to have a bin for each age \n",
    "             color = 'g')\n",
    "plt.xlabel('Age')\n",
    "\n",
    "########################\n",
    "\n",
    "plt.subplot(2, 2, 2)\n",
    "sns.distplot(train_dropped['cost_of_ad'],\n",
    "             bins  = 'fd',\n",
    "             color = 'y')\n",
    "plt.xlabel('Cost of the Ad')\n",
    "\n",
    "########################\n",
    "\n",
    "plt.subplot(2, 2, 3)\n",
    "sns.countplot(train_dropped['device_type'],\n",
    "             color = 'orange')\n",
    "plt.xlabel('Device Type')\n",
    "\n",
    "########################\n",
    "plt.subplot(2, 2, 4)\n",
    "sns.countplot(train_dropped['gender'],\n",
    "             color = 'r')\n",
    "plt.xlabel('Gender')\n",
    "plt.tight_layout()\n",
    "plt.show()\n",
    "\n",
    "########################\n",
    "########################\n",
    "\n",
    "fig, ax = plt.subplots(figsize = (10, 8))\n",
    "plt.subplot(2, 2, 1)\n",
    "sns.distplot(train_dropped['in_initial_launch_location'],\n",
    "             bins  = 'fd',\n",
    "             kde   = False,\n",
    "             color = 'g')\n",
    "plt.xlabel('in_initial_launch_location')\n",
    "\n",
    "########################\n",
    "\n",
    "plt.subplot(2, 2, 2)\n",
    "sns.distplot(train_dropped['income'],\n",
    "             bins  = 'fd',\n",
    "             color = 'y')\n",
    "plt.xlabel('Income')\n",
    "\n",
    "########################\n",
    "\n",
    "plt.subplot(2, 2, 3)\n",
    "sns.countplot(train_dropped['n_drivers'],\n",
    "             color = 'orange')\n",
    "plt.xlabel('Number of drivers')\n",
    "\n",
    "########################\n",
    "\n",
    "plt.subplot(2, 2, 4)\n",
    "sns.countplot(train_dropped['n_vehicles'],\n",
    "             color = 'r')\n",
    "plt.xlabel('Number of vehicles')\n",
    "plt.tight_layout()\n",
    "plt.show()\n",
    "\n",
    "\n",
    "########################\n",
    "########################\n",
    "\n",
    "fig, ax = plt.subplots(figsize = (10, 8))\n",
    "plt.subplot(2, 2, 1)\n",
    "sns.distplot(train_dropped['prior_ins_tenure'],\n",
    "             bins  = 'fd',\n",
    "             color = 'y')\n",
    "plt.xlabel('Prior insurance tenure')\n",
    "\n",
    "\n",
    "########################\n",
    "\n",
    "plt.subplot(2, 2, 2)\n",
    "sns.countplot(train_dropped['outcome'],\n",
    "             color = 'orange')\n",
    "plt.xlabel('Outcome')\n",
    "plt.show()"
   ]
  },
  {
   "cell_type": "markdown",
   "metadata": {},
   "source": [
    "# Feature Engineering"
   ]
  },
  {
   "cell_type": "markdown",
   "metadata": {},
   "source": [
    "We can see that most of the clients have an age of 60. At the same time, we see a not very uniformal distribution for cost_of_ad. From one side, we can see that costs below 0.0055 behave differently from costs above 0.0055. \n",
    "\n",
    "That's why, we are going to Feature engineering for these two features"
   ]
  },
  {
   "cell_type": "code",
   "execution_count": 8,
   "metadata": {},
   "outputs": [
    {
     "data": {
      "text/html": [
       "<div>\n",
       "<style scoped>\n",
       "    .dataframe tbody tr th:only-of-type {\n",
       "        vertical-align: middle;\n",
       "    }\n",
       "\n",
       "    .dataframe tbody tr th {\n",
       "        vertical-align: top;\n",
       "    }\n",
       "\n",
       "    .dataframe thead th {\n",
       "        text-align: right;\n",
       "    }\n",
       "</style>\n",
       "<table border=\"1\" class=\"dataframe\">\n",
       "  <thead>\n",
       "    <tr style=\"text-align: right;\">\n",
       "      <th></th>\n",
       "      <th>age</th>\n",
       "      <th>cost_of_ad</th>\n",
       "      <th>device_type</th>\n",
       "      <th>gender</th>\n",
       "      <th>in_initial_launch_location</th>\n",
       "      <th>income</th>\n",
       "      <th>n_drivers</th>\n",
       "      <th>n_vehicles</th>\n",
       "      <th>prior_ins_tenure</th>\n",
       "      <th>outcome</th>\n",
       "      <th>age_high</th>\n",
       "      <th>cost_of_ad_high</th>\n",
       "    </tr>\n",
       "  </thead>\n",
       "  <tbody>\n",
       "    <tr>\n",
       "      <td>0</td>\n",
       "      <td>56</td>\n",
       "      <td>0.005737</td>\n",
       "      <td>iPhone</td>\n",
       "      <td>M</td>\n",
       "      <td>0</td>\n",
       "      <td>62717</td>\n",
       "      <td>2</td>\n",
       "      <td>1</td>\n",
       "      <td>4</td>\n",
       "      <td>0</td>\n",
       "      <td>0</td>\n",
       "      <td>1</td>\n",
       "    </tr>\n",
       "    <tr>\n",
       "      <td>1</td>\n",
       "      <td>50</td>\n",
       "      <td>0.004733</td>\n",
       "      <td>desktop</td>\n",
       "      <td>F</td>\n",
       "      <td>0</td>\n",
       "      <td>64328</td>\n",
       "      <td>2</td>\n",
       "      <td>3</td>\n",
       "      <td>2</td>\n",
       "      <td>0</td>\n",
       "      <td>0</td>\n",
       "      <td>0</td>\n",
       "    </tr>\n",
       "    <tr>\n",
       "      <td>2</td>\n",
       "      <td>54</td>\n",
       "      <td>0.004129</td>\n",
       "      <td>laptop</td>\n",
       "      <td>M</td>\n",
       "      <td>0</td>\n",
       "      <td>83439</td>\n",
       "      <td>1</td>\n",
       "      <td>3</td>\n",
       "      <td>7</td>\n",
       "      <td>0</td>\n",
       "      <td>0</td>\n",
       "      <td>0</td>\n",
       "    </tr>\n",
       "    <tr>\n",
       "      <td>3</td>\n",
       "      <td>16</td>\n",
       "      <td>0.005117</td>\n",
       "      <td>Android</td>\n",
       "      <td>F</td>\n",
       "      <td>0</td>\n",
       "      <td>30110</td>\n",
       "      <td>2</td>\n",
       "      <td>3</td>\n",
       "      <td>0</td>\n",
       "      <td>0</td>\n",
       "      <td>0</td>\n",
       "      <td>0</td>\n",
       "    </tr>\n",
       "    <tr>\n",
       "      <td>4</td>\n",
       "      <td>37</td>\n",
       "      <td>0.003635</td>\n",
       "      <td>desktop</td>\n",
       "      <td>M</td>\n",
       "      <td>0</td>\n",
       "      <td>76565</td>\n",
       "      <td>2</td>\n",
       "      <td>1</td>\n",
       "      <td>5</td>\n",
       "      <td>0</td>\n",
       "      <td>0</td>\n",
       "      <td>0</td>\n",
       "    </tr>\n",
       "  </tbody>\n",
       "</table>\n",
       "</div>"
      ],
      "text/plain": [
       "   age  cost_of_ad device_type gender  in_initial_launch_location  income  \\\n",
       "0   56    0.005737      iPhone      M                           0   62717   \n",
       "1   50    0.004733     desktop      F                           0   64328   \n",
       "2   54    0.004129      laptop      M                           0   83439   \n",
       "3   16    0.005117     Android      F                           0   30110   \n",
       "4   37    0.003635     desktop      M                           0   76565   \n",
       "\n",
       "   n_drivers  n_vehicles  prior_ins_tenure  outcome  age_high  cost_of_ad_high  \n",
       "0          2           1                 4        0         0                1  \n",
       "1          2           3                 2        0         0                0  \n",
       "2          1           3                 7        0         0                0  \n",
       "3          2           3                 0        0         0                0  \n",
       "4          2           1                 5        0         0                0  "
      ]
     },
     "execution_count": 8,
     "metadata": {},
     "output_type": "execute_result"
    }
   ],
   "source": [
    "### Feature engineering for age and Cost of ad\n",
    "age_hi = 59\n",
    "cost_of_ad_hi = 0.0055\n",
    "\n",
    "\n",
    "### TRAIN DATASET\n",
    "# trend-based feature engineering for age\n",
    "train_dropped['age_high'] = 0\n",
    "condition = train_dropped.loc[0 : ,'age_high'][train_dropped['age'] > age_hi]\n",
    "\n",
    "train_dropped['age_high'].replace(to_replace = condition,\n",
    "                                   value      = 1,\n",
    "                                   inplace    = True)\n",
    "\n",
    "# trend-based feature engineering for cost_of_ad\n",
    "train_dropped['cost_of_ad_high'] = 0\n",
    "condition = train_dropped.loc[0 : ,'cost_of_ad_high'][train_dropped['cost_of_ad'] > cost_of_ad_hi]\n",
    "\n",
    "train_dropped['cost_of_ad_high'].replace(to_replace = condition,\n",
    "                                   value      = 1,\n",
    "                                   inplace    = True)\n",
    "\n",
    "\n",
    "\n",
    "### TEST DATASET\n",
    "# trend-based feature engineering for age\n",
    "test_df['age_high'] = 0\n",
    "condition = test_df.loc[0 : ,'age_high'][test_df['age'] > age_hi]\n",
    "\n",
    "test_df['age_high'].replace(to_replace = condition,\n",
    "                                   value      = 1,\n",
    "                                   inplace    = True)\n",
    "\n",
    "# trend-based feature engineering for cost_of_ad\n",
    "test_df['cost_of_ad_high'] = 0\n",
    "condition = test_df.loc[0 : ,'cost_of_ad_high'][test_df['cost_of_ad'] > cost_of_ad_hi]\n",
    "\n",
    "test_df['cost_of_ad_high'].replace(to_replace = condition,\n",
    "                                   value      = 1,\n",
    "                                   inplace    = True)\n",
    "\n",
    "train_dropped.head()"
   ]
  },
  {
   "cell_type": "markdown",
   "metadata": {},
   "source": [
    "# One-hot encoding"
   ]
  },
  {
   "cell_type": "code",
   "execution_count": 9,
   "metadata": {},
   "outputs": [],
   "source": [
    "#### One-hot Ecoding for gender and device_type\n",
    "one_hot_gender_train = pd.get_dummies(train_dropped[\"gender\"])\n",
    "one_hot_device_train = pd.get_dummies(train_dropped[\"device_type\"])\n",
    "\n",
    "one_hot_gender_test = pd.get_dummies(test_df[\"gender\"])\n",
    "one_hot_device_test = pd.get_dummies(test_df[\"device_type\"])\n",
    "\n",
    "\n",
    "### Dropping encoded varibles from the df\n",
    "train_encoded = train_dropped.copy()\n",
    "test_encoded  = test_df.copy()\n",
    "\n",
    "train_encoded = train_encoded.drop(['gender','device_type'], axis = 1)\n",
    "test_encoded = test_encoded.drop(['gender','device_type'], axis = 1)\n",
    "\n",
    "### Joining encoders togethers\n",
    "train_encoded = train_encoded.join([one_hot_gender_train, one_hot_device_train])\n",
    "test_encoded = test_encoded.join([one_hot_gender_test, one_hot_device_test])"
   ]
  },
  {
   "cell_type": "markdown",
   "metadata": {},
   "source": [
    "# Classifier Algorithm"
   ]
  },
  {
   "cell_type": "code",
   "execution_count": 10,
   "metadata": {},
   "outputs": [],
   "source": [
    "### Split the train data into X and y for the algorithms\n",
    "X = train_encoded.drop('outcome', axis =1)\n",
    "y = train_encoded['outcome']\n",
    "\n",
    "X_train, X_test, y_train, y_test = train_test_split(X, y, \n",
    "                                                    test_size    = 0.3, \n",
    "                                                    random_state = SEED,\n",
    "                                                    stratify     = y\n",
    "                                                   )\n"
   ]
  },
  {
   "cell_type": "markdown",
   "metadata": {},
   "source": [
    "## Gradient Boosting Classifier"
   ]
  },
  {
   "cell_type": "code",
   "execution_count": 11,
   "metadata": {
    "code_folding": []
   },
   "outputs": [
    {
     "name": "stdout",
     "output_type": "stream",
     "text": [
      "Fitting 4 folds for each of 9 candidates, totalling 36 fits\n"
     ]
    },
    {
     "name": "stderr",
     "output_type": "stream",
     "text": [
      "[Parallel(n_jobs=1)]: Using backend SequentialBackend with 1 concurrent workers.\n",
      "[Parallel(n_jobs=1)]: Done  36 out of  36 | elapsed:   55.1s finished\n"
     ]
    },
    {
     "data": {
      "text/plain": [
       "{'gbc__learning_rate': 0.04, 'gbc__n_estimators': 300, 'gbc__subsample': 0.8}"
      ]
     },
     "execution_count": 11,
     "metadata": {},
     "output_type": "execute_result"
    }
   ],
   "source": [
    "pipeline = Pipeline(\n",
    "    [('scale', RobustScaler()),\n",
    "        ('gbc', GradientBoostingClassifier(random_state = SEED))]\n",
    ")\n",
    "\n",
    "params_gbc = {\n",
    "    'gbc__learning_rate': [0.04, 0.05, 0.06],\n",
    "    'gbc__n_estimators' : [200, 300, 400],\n",
    "    'gbc__subsample'    : [0.8]\n",
    "}\n",
    "\n",
    "grid_gbc = GridSearchCV(estimator  = pipeline, \n",
    "                        param_grid = params_gbc,\n",
    "                        cv         = 4,\n",
    "                        verbose    = 1, \n",
    "                        n_jobs     = 1\n",
    "                        )\n",
    "\n",
    "grid_gbc.fit(X_train, y_train)\n",
    "best_hyperparams = grid_gbc.best_params_\n",
    "best_hyperparams"
   ]
  },
  {
   "cell_type": "code",
   "execution_count": null,
   "metadata": {},
   "outputs": [],
   "source": [
    "#Choosing the best model to predict.\n",
    "best_model = grid_gbc.best_estimator_\n",
    "\n",
    "train_pred_proba = best_model.predict_proba(X_test)[:,1]\n",
    "\n",
    "rf_clf_roc_auc_score = roc_auc_score(y_test, train_pred_proba)\n",
    "\n",
    "print(f\"The AUC score of the model is:\\n{rf_clf_roc_auc_score.round(3)}\")"
   ]
  },
  {
   "cell_type": "markdown",
   "metadata": {},
   "source": [
    "# Predicting over test.csv"
   ]
  },
  {
   "cell_type": "code",
   "execution_count": null,
   "metadata": {},
   "outputs": [],
   "source": [
    "test_pred = best_model.predict(test_encoded)\n",
    "test_final_predictions = test_df.copy()\n",
    "test_final_predictions['Prediction'] = pd.Series(test_pred)"
   ]
  },
  {
   "cell_type": "markdown",
   "metadata": {},
   "source": [
    "# Last Cell, Final predictions to test.csv"
   ]
  },
  {
   "cell_type": "code",
   "execution_count": null,
   "metadata": {},
   "outputs": [],
   "source": [
    "test_final_predictions.head(5)"
   ]
  }
 ],
 "metadata": {
  "kernelspec": {
   "display_name": "Python 3",
   "language": "python",
   "name": "python3"
  },
  "language_info": {
   "codemirror_mode": {
    "name": "ipython",
    "version": 3
   },
   "file_extension": ".py",
   "mimetype": "text/x-python",
   "name": "python",
   "nbconvert_exporter": "python",
   "pygments_lexer": "ipython3",
   "version": "3.7.4"
  },
  "toc": {
   "base_numbering": 1,
   "nav_menu": {},
   "number_sections": true,
   "sideBar": true,
   "skip_h1_title": false,
   "title_cell": "Table of Contents",
   "title_sidebar": "Contents",
   "toc_cell": false,
   "toc_position": {},
   "toc_section_display": true,
   "toc_window_display": false
  },
  "varInspector": {
   "cols": {
    "lenName": 16,
    "lenType": 16,
    "lenVar": 40
   },
   "kernels_config": {
    "python": {
     "delete_cmd_postfix": "",
     "delete_cmd_prefix": "del ",
     "library": "var_list.py",
     "varRefreshCmd": "print(var_dic_list())"
    },
    "r": {
     "delete_cmd_postfix": ") ",
     "delete_cmd_prefix": "rm(",
     "library": "var_list.r",
     "varRefreshCmd": "cat(var_dic_list()) "
    }
   },
   "position": {
    "height": "529px",
    "left": "1223px",
    "right": "20px",
    "top": "120px",
    "width": "197px"
   },
   "types_to_exclude": [
    "module",
    "function",
    "builtin_function_or_method",
    "instance",
    "_Feature"
   ],
   "window_display": false
  }
 },
 "nbformat": 4,
 "nbformat_minor": 2
}
